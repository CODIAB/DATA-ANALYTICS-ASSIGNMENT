{
 "cells": [
  {
   "cell_type": "raw",
   "id": "10a7179a-bb23-4a2d-85fe-4fb8e89df24e",
   "metadata": {},
   "source": [
    "Theoritical Questions"
   ]
  },
  {
   "cell_type": "raw",
   "id": "a6dca896-67de-44f4-a807-b9e7153bbb0f",
   "metadata": {},
   "source": [
    "Q1. a.) What is Python?\n",
    "\n",
    "    Ans.  a.) Python is a high-level, interpreted programming language known for its simplicity, readability, and versatility.\n",
    "    \n",
    "    b.) Why is it popular?\n",
    "\n",
    "    Ans.  b.) 1. Simple Syntax\n",
    "                Python code is clean and easy to read—almost like English. This makes it beginner-friendly and great for rapid development.\n",
    "              2. Versatility\n",
    "                Used in a wide range of fields:\n",
    "                  ->  Web Development (Django, Flask)\n",
    "                  ->  Data Science and Machine Learning (Pandas, NumPy, Scikit-learn, TensorFlow)\n",
    "                  ->  Automation/Scripting\n",
    "                  ->  Game Development\n",
    "                  ->  Cybersecurity\n",
    "                  ->  Finance \n",
    "              3. Large Community and Libraries\n",
    "                Massive community support means tons of libraries, frameworks, and tutorials are available for almost anything.\n",
    "              "
   ]
  },
  {
   "cell_type": "raw",
   "id": "4d62925a-c98a-43fd-bc6e-6a817f2f43a2",
   "metadata": {},
   "source": [
    "Q2. What is an Interpreter in Python?\n",
    "\n",
    "    Ans. An interpreter in Python is a program that reads and executes Python code line by line, converting it into machine-understandable                     instructions at runtime.\n",
    "\n"
   ]
  },
  {
   "cell_type": "raw",
   "id": "9ba0d059-ad05-4c18-8b15-326a4e3addc3",
   "metadata": {},
   "source": [
    "Q3. What are pre-defined keywords in Python?\n",
    "\n",
    "    Ans. Pre-defined keywords in Python are reserved words that have special meaning to the Python interpreter. You cannot use them as variable                names, function names, or identifiers because they are part of the language syntax."
   ]
  },
  {
   "cell_type": "raw",
   "id": "ab3c01ff-e9ad-43a7-8771-965f9907acea",
   "metadata": {},
   "source": [
    "Q4. Can keywords be used as variable names?\n",
    "\n",
    "    Ans. No, keywords cannot be used as variable names in Python."
   ]
  },
  {
   "cell_type": "raw",
   "id": "0cba245e-15e9-4171-a809-cb62a35b2598",
   "metadata": {},
   "source": [
    "Q5. What is mutability in Python?\n",
    "\n",
    "    Ans. Mutability refers to whether or not an object can be changed after it is created."
   ]
  },
  {
   "cell_type": "raw",
   "id": "10a69ed7-37dd-4032-8ed4-c38e0f06924f",
   "metadata": {},
   "source": [
    "Q6. Why are lists mutable, but tuples are immutable?\n",
    "\n",
    "    Ans. i.  Lists are mutable in Python to support dynamic, changeable data, allowing element modification, addition, or removal. \n",
    "\n",
    "         ii. Tuples are immutable to ensure data integrity, optimize performance, and allow use as dictionary keys. This design supports safe,                     efficient programming by aligning each structure with its intended use and functional programming principles."
   ]
  },
  {
   "cell_type": "raw",
   "id": "21b2e08e-88b9-4173-a1dd-9b6a52bddc92",
   "metadata": {},
   "source": [
    "Q7. What is the difference between “==” and “is” operators in Python?\n",
    "\n",
    "    Ans. In Python, \"==\" checks if two objects have equal values, while \"is\" checks if they reference the same memory location. Thus, \"==\" compares            equality, and \"is\" compares identity."
   ]
  },
  {
   "cell_type": "raw",
   "id": "be846341-dcbb-4851-a04e-aac3d9df68d9",
   "metadata": {},
   "source": [
    "Q8. What are logical operators in Python?\n",
    "\n",
    "    Ans. Logical operators in Python are used to combine conditional statements and evaluate expressions based on their Boolean values (True or                False). They are also known as Boolean operators because they operate on Boolean data and return Boolean results. Python provides three               logical operators:\n",
    "\n",
    "           i. and: Returns True only if both operands are True. Returns False if either is False.\n",
    "\n",
    "          ii. or: Returns True if at least one operand is True. Returns False only if both are False.\n",
    "\n",
    "         iii. not: A unary operator that reverses the truth value of its operand. If the operand is True, not returns False, and vice versa."
   ]
  },
  {
   "cell_type": "raw",
   "id": "eeeb2478-2b06-4862-8f32-87b09acc9707",
   "metadata": {},
   "source": [
    "Q9. What is type casting in Python?\n",
    "\n",
    "    Ans. Type casting in Python, also known as type conversion, is the process of converting a value from one data type to another. This conversion            can be either implicit (automatic) or explicit (manual). "
   ]
  },
  {
   "cell_type": "raw",
   "id": "8c039502-60f7-4bb9-b8a3-db0c0ac3a58a",
   "metadata": {},
   "source": [
    "Q10. What is the difference between implicit and explicit type casting?\n",
    "\n",
    "    Ans. Implicit and explicit type casting differ in how the data type conversion is initiated. Implicit casting, also known as widening or                   automatic type conversion, occurs automatically by the compiler when it can be safely done without data loss. Explicit casting, or                    narrowing, requires the programmer to specify the conversion using a cast operator, as it may involve potential data loss or require                  handling potential errors. "
   ]
  },
  {
   "cell_type": "raw",
   "id": "46703b65-6ca0-4b1c-94f3-4a7787fca6cc",
   "metadata": {},
   "source": [
    "Q11. What is the purpose of conditional statements in Python?\n",
    "\n",
    "    Ans. The purpose of conditional statements in Python is to control the flow of execution in a program based on specific conditions. They enable            decision-making within the code, allowing different blocks of instructions to be executed depending on whether a given condition evaluates            to True or False. "
   ]
  },
  {
   "cell_type": "raw",
   "id": "414d9744-2127-4fbb-9a32-d678e7c1660c",
   "metadata": {},
   "source": [
    "Q12. How does the elif statement work?\n",
    "\n",
    "    Ans. The elif statement in Python, short for \"else if,\" is used to check multiple conditions sequentially in a conditional block. It works as              part of an if-elif-else chain. The elif statement checks additional conditions if the previous if or elif conditions are False. It ensures            only the first True condition's block is executed, making decision-making clear and efficient."
   ]
  },
  {
   "cell_type": "raw",
   "id": "6bee4438-a362-4138-b4c9-092e71e5a910",
   "metadata": {},
   "source": [
    "Q13. What is the difference between for and while loops?\n",
    "\n",
    "    Ans. In Python, the for loop is used when the number of iterations is known or when iterating over a sequence such as a list, tuple, string, or            range. It is count-controlled, meaning it repeats a block of code for each item in the sequence. In contrast, the while loop is condition-            controlled and runs as long as a specified condition remains true, making it suitable for situations where the number of iterations is not            known in advance."
   ]
  },
  {
   "cell_type": "raw",
   "id": "1269cb1d-bc6f-4f79-b60a-57a0ee703636",
   "metadata": {},
   "source": [
    "Q14. Describe a scenario where a while loop is more suitable than a for loop.\n",
    "\n",
    "    Ans. A while loop is more suitable when the number of iterations is unknown, such as repeatedly prompting a user for input until they enter valid data. It checks a condition each time, making it ideal for loops that depend on changing or unpredictable conditions."
   ]
  },
  {
   "cell_type": "raw",
   "id": "adf83030-7baf-4e76-8185-7529170ce148",
   "metadata": {},
   "source": [
    "Practical Questions."
   ]
  },
  {
   "cell_type": "code",
   "execution_count": 1,
   "id": "1df8475e-8b48-4270-bf2f-f9d88a9784b8",
   "metadata": {},
   "outputs": [
    {
     "name": "stdout",
     "output_type": "stream",
     "text": [
      "Hello, World!\n"
     ]
    }
   ],
   "source": [
    "#Q1. Write a Python program to print \"Hello, World!\"\n",
    "\n",
    "#Ans.\n",
    "print(\"Hello, World!\")"
   ]
  },
  {
   "cell_type": "code",
   "execution_count": 3,
   "id": "710aca55-7fd4-4e97-ab5a-99c134e27a6c",
   "metadata": {},
   "outputs": [
    {
     "name": "stdout",
     "output_type": "stream",
     "text": [
      "My name is Abhishek Singh.\n",
      "I am 26 years old.\n"
     ]
    }
   ],
   "source": [
    "#Q2. Write a Python program that displays your name and age.\n",
    "\n",
    "#Ans.\n",
    "print(\"My name is Abhishek Singh.\")\n",
    "print(\"I am 26 years old.\")"
   ]
  },
  {
   "cell_type": "code",
   "execution_count": 5,
   "id": "fa21ff00-1a53-475a-838a-de7f18515e16",
   "metadata": {},
   "outputs": [
    {
     "name": "stdout",
     "output_type": "stream",
     "text": [
      "['False', 'None', 'True', 'and', 'as', 'assert', 'async', 'await', 'break', 'class', 'continue', 'def', 'del', 'elif', 'else', 'except', 'finally', 'for', 'from', 'global', 'if', 'import', 'in', 'is', 'lambda', 'nonlocal', 'not', 'or', 'pass', 'raise', 'return', 'try', 'while', 'with', 'yield']\n"
     ]
    }
   ],
   "source": [
    "#Q3. Write code to print all the pre-defined keywords in Python using the keyword library.\n",
    "\n",
    "#Ans.\n",
    "import keyword\n",
    "\n",
    "print(keyword.kwlist)"
   ]
  },
  {
   "cell_type": "code",
   "execution_count": null,
   "id": "94673926-ef44-4c07-83c0-344e6ea5f230",
   "metadata": {},
   "outputs": [],
   "source": [
    "#Q4. Write a program that checks if a given word is a Python keyword.\n",
    "\n",
    "#Ans.\n",
    "import keyword\n",
    "\n",
    "word = input(\"Enter a word to check: \")\n",
    "\n",
    "\n",
    "if keyword.iskeyword(word):\n",
    "    print(f\"'{word}' is a Python keyword.\")\n",
    "else:\n",
    "    print(f\"'{word}' is NOT a Python keyword.\")"
   ]
  },
  {
   "cell_type": "code",
   "execution_count": null,
   "id": "f3bbcced-7a8f-4b9f-95e8-7a8b8f589435",
   "metadata": {},
   "outputs": [],
   "source": [
    "#Q5. Create a list and tuple in Python, and demonstrate how attempting to change an element works differently for each."
   ]
  },
  {
   "cell_type": "code",
   "execution_count": null,
   "id": "0d0c8d5a-2c86-45d3-a8dd-63b10c0fe941",
   "metadata": {},
   "outputs": [],
   "source": [
    "#Q6. Write a function to demonstrate the behavior of mutable and immutable arguments."
   ]
  },
  {
   "cell_type": "code",
   "execution_count": null,
   "id": "8cda1145-ff35-43fa-b0df-ab6cabecc66a",
   "metadata": {},
   "outputs": [],
   "source": []
  },
  {
   "cell_type": "code",
   "execution_count": null,
   "id": "45463cdc-9184-448e-bf3c-fec0c7f3f9f5",
   "metadata": {},
   "outputs": [],
   "source": []
  },
  {
   "cell_type": "code",
   "execution_count": null,
   "id": "8a40cdcb-ebae-4f78-acf6-9a98db078fe4",
   "metadata": {},
   "outputs": [],
   "source": []
  },
  {
   "cell_type": "code",
   "execution_count": null,
   "id": "f0586eee-9284-42c5-a44f-9589522fdcbd",
   "metadata": {},
   "outputs": [],
   "source": []
  },
  {
   "cell_type": "code",
   "execution_count": null,
   "id": "ff737eb3-6b57-4b4d-9e38-0763a43ff6d2",
   "metadata": {},
   "outputs": [],
   "source": []
  },
  {
   "cell_type": "code",
   "execution_count": null,
   "id": "ac24cefc-eaa2-4033-bd2e-4740dde8318a",
   "metadata": {},
   "outputs": [],
   "source": []
  },
  {
   "cell_type": "code",
   "execution_count": null,
   "id": "edde4c82-9133-4fcf-8797-c3479b51b40e",
   "metadata": {},
   "outputs": [],
   "source": []
  },
  {
   "cell_type": "code",
   "execution_count": null,
   "id": "dd6c1af7-cb73-4bf0-9b51-6545d79a530e",
   "metadata": {},
   "outputs": [],
   "source": []
  },
  {
   "cell_type": "code",
   "execution_count": null,
   "id": "04d88373-309a-4acb-a48e-f0004671a789",
   "metadata": {},
   "outputs": [],
   "source": []
  },
  {
   "cell_type": "code",
   "execution_count": null,
   "id": "dfb7a9a9-6a31-4df9-bd98-c73815b61324",
   "metadata": {},
   "outputs": [],
   "source": []
  },
  {
   "cell_type": "code",
   "execution_count": null,
   "id": "6f533dcf-c7a5-467f-81ea-3b579b278e71",
   "metadata": {},
   "outputs": [],
   "source": []
  },
  {
   "cell_type": "code",
   "execution_count": null,
   "id": "0b93f572-388b-4003-9e00-00f956663cce",
   "metadata": {},
   "outputs": [],
   "source": []
  },
  {
   "cell_type": "code",
   "execution_count": null,
   "id": "20592f22-39c9-4433-b45c-4094927092f4",
   "metadata": {},
   "outputs": [],
   "source": []
  },
  {
   "cell_type": "code",
   "execution_count": null,
   "id": "9ee8f0dc-5802-4a18-a991-bedeaf851ea6",
   "metadata": {},
   "outputs": [],
   "source": []
  },
  {
   "cell_type": "code",
   "execution_count": null,
   "id": "df737fbd-d61c-4f56-bc8b-833fc91df11d",
   "metadata": {},
   "outputs": [],
   "source": []
  },
  {
   "cell_type": "code",
   "execution_count": null,
   "id": "edf1f72c-0c9b-4249-a71a-577a2140f604",
   "metadata": {},
   "outputs": [],
   "source": []
  },
  {
   "cell_type": "code",
   "execution_count": null,
   "id": "d867ebe6-e66b-4b8e-b06a-76d08ca25d27",
   "metadata": {},
   "outputs": [],
   "source": []
  },
  {
   "cell_type": "code",
   "execution_count": null,
   "id": "4ca2288a-b7ed-4952-ac56-ae993d12f144",
   "metadata": {},
   "outputs": [],
   "source": []
  },
  {
   "cell_type": "code",
   "execution_count": null,
   "id": "57742078-c1c9-4c30-a4a8-c0864868d641",
   "metadata": {},
   "outputs": [],
   "source": []
  },
  {
   "cell_type": "code",
   "execution_count": null,
   "id": "7eba81aa-dde6-4b8f-80e8-db25bcb21745",
   "metadata": {},
   "outputs": [],
   "source": []
  },
  {
   "cell_type": "code",
   "execution_count": null,
   "id": "ecd9d0e7-cc38-4f90-88d0-25d1679300f0",
   "metadata": {},
   "outputs": [],
   "source": []
  },
  {
   "cell_type": "code",
   "execution_count": null,
   "id": "7b0e66bb-9308-4208-a814-4f6fd8162dae",
   "metadata": {},
   "outputs": [],
   "source": []
  },
  {
   "cell_type": "code",
   "execution_count": null,
   "id": "4c971819-32c6-4eee-8bf5-3eb701c1dd65",
   "metadata": {},
   "outputs": [],
   "source": []
  },
  {
   "cell_type": "code",
   "execution_count": null,
   "id": "f16dbb50-daca-4893-ac7c-f784a95b6203",
   "metadata": {},
   "outputs": [],
   "source": []
  },
  {
   "cell_type": "code",
   "execution_count": null,
   "id": "4a065e39-7001-4795-80f1-b1e045ced0b3",
   "metadata": {},
   "outputs": [],
   "source": []
  }
 ],
 "metadata": {
  "kernelspec": {
   "display_name": "Python 3 (ipykernel)",
   "language": "python",
   "name": "python3"
  },
  "language_info": {
   "codemirror_mode": {
    "name": "ipython",
    "version": 3
   },
   "file_extension": ".py",
   "mimetype": "text/x-python",
   "name": "python",
   "nbconvert_exporter": "python",
   "pygments_lexer": "ipython3",
   "version": "3.13.2"
  }
 },
 "nbformat": 4,
 "nbformat_minor": 5
}
